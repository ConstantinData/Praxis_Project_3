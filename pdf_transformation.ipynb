{
 "cells": [
  {
   "cell_type": "markdown",
   "source": [
    "# PDF - Reporting"
   ],
   "metadata": {
    "collapsed": false
   }
  },
  {
   "cell_type": "code",
   "execution_count": 9,
   "outputs": [
    {
     "data": {
      "text/plain": "''"
     },
     "execution_count": 9,
     "metadata": {},
     "output_type": "execute_result"
    }
   ],
   "source": [
    "from fpdf import FPDF\n",
    "\n",
    "class PDF(FPDF):\n",
    "    def __init__(self):\n",
    "        super().__init__()\n",
    "\n",
    "    def header(self):\n",
    "        self.set_font(family='Arial', style='B', size=16)\n",
    "        self.cell(w=0, h=8, txt='Projekt_1 - PDF - Reporting', border=0, align='C', ln=1)\n",
    "\n",
    "    def footer(self):\n",
    "        self.set_y(-15)\n",
    "        self.set_font(family='Arial')\n",
    "        self.cell(w=0, h=8, txt=f'Page {self.page_no()}', border=0, align='R')\n",
    "\n",
    "ch = 8\n",
    "pdf = PDF()\n",
    "pdf.add_page()\n",
    "\n",
    "pdf.set_font(\"Arial\", style=\"U\", size=16)\n",
    "pdf.cell(w=0, h=20, txt=\"Proiekt 1\", ln=1)\n",
    "pdf.image(\"C:\\\\Users\\\\User\\\\Desktop\\\\Praxis_Woche_28_08_01_09\\\\Korrelation.png\", x=50, y=None, w=100, h=0)\n",
    "pdf.set_font(\"Arial\", size=12)\n",
    "mein_text = 'Korrelation zwischen verschiedenen Faktoren und der Glücklichkeitsbewertung  mit  Pearson-Korrelationskoeffizienten, Ein positiver Korrelationskoeffizient deutet darauf hin, dass höhere Werte des betreffenden Faktors mit höheren Glücklichkeitsbewertungen verbunden sind.Es ist interessant, hier in diesem Diagramm oben festzustellen, dass das Bruttoeinkommen pro Kopf nur sehr wenig Einfluss auf die Großzügigkeit, die soziale Unterstützung oder die gesunde Lebenserwartung hat.'\n",
    "pdf.ln(ch)\n",
    "pdf.multi_cell(w=0, h=5, txt=mein_text)\n",
    "pdf.ln(ch)\n",
    "\n",
    "pdf.set_font(\"Arial\", style=\"U\", size=16)\n",
    "pdf.cell(w=0, h=20, txt=\"Barplot Chart:\", ln=1)\n",
    "pdf.image(\"C:\\\\Users\\\\User\\\\Desktop\\\\Praxis_Woche_28_08_01_09\\\\Influence.png\", x=50, y=None, w=100, h=0)\n",
    "pdf.set_font(\"Arial\", size=12)\n",
    "mein_text2 = 'In der obigen Grafik sehen wir in procentual den Einfluss der aufgeführten Faktoren auf die Gesamtpunktzahl'\n",
    "pdf.ln(ch)\n",
    "pdf.multi_cell(w=0, h=5, txt=mein_text2)\n",
    "pdf.ln(ch)\n",
    "\n",
    "pdf.set_font(\"Arial\", style=\"U\", size=16)\n",
    "pdf.cell(w=0, h=20, txt=\"Erste_10_rangliste2018\", ln=1)\n",
    "pdf.image(\"C:\\\\Users\\\\User\\\\Desktop\\\\Praxis_Woche_28_08_01_09\\\\first_10_ranking2018.png\", x=50, y=None, w=100, h=0)\n",
    "pdf.set_font(\"Arial\", size=12)\n",
    "mein_text3 ='In der obigen Grafik werden für das Jahr 2018 die ersten 10 Länder nach dem Happiness Score gruppiert.'\n",
    "pdf.ln(ch)\n",
    "pdf.multi_cell(w=0, h=5, txt=mein_text3)\n",
    "pdf.ln(ch)\n",
    "\n",
    "pdf.set_font(\"Arial\", style=\"U\", size=16)\n",
    "pdf.cell(w=0, h=20, txt=\"Erste_10_rangliste2019\", ln=1)\n",
    "pdf.image(\"C:\\\\Users\\\\User\\\\Desktop\\\\Praxis_Woche_28_08_01_09\\\\first_10_ranking2019.png\", x=50, y=None, w=100, h=0)\n",
    "pdf.set_font(\"Arial\", size=12)\n",
    "mein_text3 ='In der obigen Grafik werden für das Jahr 2019 die ersten 10 Länder nach dem Happiness Score gruppiert.Es ist interessant, dass es an einigen Stellen geringfügige Änderungen gibt, aber Finland bleibt auf dem ersten Platz!'\n",
    "pdf.ln(ch)\n",
    "pdf.multi_cell(w=0, h=5, txt=mein_text3)\n",
    "pdf.ln(ch)\n",
    "\n",
    "pdf.set_font(\"Arial\", style=\"U\", size=16)\n",
    "pdf.cell(w=0, h=20, txt=\"Top 10 der Rangliste der Länder in  2018 und 2019 mit Tredlinie für 2019\", ln=1)\n",
    "pdf.image(\"C:\\\\Users\\\\User\\\\Desktop\\\\Praxis_Woche_28_08_01_09\\\\top_10_ranking_with_trendline.png\", x=50, y=None, w=100, h=0)\n",
    "pdf.set_font(\"Arial\", size=12)\n",
    "mein_text4 ='In dieser Grafik sind die Fortschritte Finnlands 2019 im Vergleich zu 2018 hervorzuheben, aber auch die Tatsache, dass die Länder, die auf Platz 4 liegen, einen leichten Rückgang der allgemeinen Zufriedenheitswerte verzeichnen!'\n",
    "pdf.ln(ch)\n",
    "pdf.multi_cell(w=0, h=5, txt=mein_text4)\n",
    "pdf.ln(ch)\n",
    "\n",
    "pdf.set_font(\"Arial\", style=\"U\", size=16)\n",
    "pdf.cell(w=0, h=20, txt=\"Letzte 10 der Rangliste der Länder in  2018 und 2019 mit Tredlinie für 2019\", ln=1)\n",
    "pdf.image(\"C:\\\\Users\\\\User\\\\Desktop\\\\Praxis_Woche_28_08_01_09\\\\last_10_rankings_with_trendline.png\", x=50, y=None, w=100, h=0)\n",
    "pdf.set_font(\"Arial\", size=12)\n",
    "mein_text5 ='In dieser Grafik sind die Fortschritte Finnlands 2019 im Vergleich zu 2018 hervorzuheben, aber auch die Tatsache, dass die Länder, die auf Platz 4 liegen, einen leichten Rückgang der allgemeinen Zufriedenheitswerte verzeichnen!'\n",
    "pdf.ln(ch)\n",
    "pdf.multi_cell(w=0, h=5, txt=mein_text5)\n",
    "pdf.ln(ch)\n",
    "\n",
    "pdf.output(\"Constantin_Project_28_8_23.pdf\")"
   ],
   "metadata": {
    "collapsed": false
   }
  },
  {
   "cell_type": "code",
   "execution_count": null,
   "outputs": [],
   "source": [],
   "metadata": {
    "collapsed": false,
    "pycharm": {
     "is_executing": true
    }
   }
  },
  {
   "cell_type": "code",
   "execution_count": 1,
   "outputs": [],
   "source": [],
   "metadata": {
    "collapsed": false
   }
  }
 ],
 "metadata": {
  "kernelspec": {
   "display_name": "Python 3",
   "language": "python",
   "name": "python3"
  },
  "language_info": {
   "codemirror_mode": {
    "name": "ipython",
    "version": 2
   },
   "file_extension": ".py",
   "mimetype": "text/x-python",
   "name": "python",
   "nbconvert_exporter": "python",
   "pygments_lexer": "ipython2",
   "version": "2.7.6"
  }
 },
 "nbformat": 4,
 "nbformat_minor": 0
}
